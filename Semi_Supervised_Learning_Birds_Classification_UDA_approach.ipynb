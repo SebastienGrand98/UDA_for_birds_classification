{
  "cells": [
    {
      "cell_type": "code",
      "execution_count": null,
      "metadata": {
        "colab": {
          "base_uri": "https://localhost:8080/"
        },
        "id": "3V9GMZzCNYmh",
        "outputId": "9f662ead-a4e6-4569-805f-8a41bbf54f1c"
      },
      "outputs": [
        {
          "output_type": "stream",
          "name": "stdout",
          "text": [
            "Found existing installation: imgaug 0.4.0\n",
            "Uninstalling imgaug-0.4.0:\n",
            "  Successfully uninstalled imgaug-0.4.0\n",
            "Looking in indexes: https://pypi.org/simple, https://us-python.pkg.dev/colab-wheels/public/simple/\n",
            "Collecting imgaug\n",
            "  Using cached imgaug-0.4.0-py2.py3-none-any.whl (948 kB)\n",
            "Requirement already satisfied: imageio in /usr/local/lib/python3.7/dist-packages (from imgaug) (2.4.1)\n",
            "Requirement already satisfied: six in /usr/local/lib/python3.7/dist-packages (from imgaug) (1.15.0)\n",
            "Requirement already satisfied: Pillow in /usr/local/lib/python3.7/dist-packages (from imgaug) (7.1.2)\n",
            "Requirement already satisfied: Shapely in /usr/local/lib/python3.7/dist-packages (from imgaug) (1.8.2)\n",
            "Requirement already satisfied: scipy in /usr/local/lib/python3.7/dist-packages (from imgaug) (1.4.1)\n",
            "Requirement already satisfied: numpy>=1.15 in /usr/local/lib/python3.7/dist-packages (from imgaug) (1.21.6)\n",
            "Requirement already satisfied: opencv-python in /usr/local/lib/python3.7/dist-packages (from imgaug) (4.1.2.30)\n",
            "Requirement already satisfied: scikit-image>=0.14.2 in /usr/local/lib/python3.7/dist-packages (from imgaug) (0.18.3)\n",
            "Requirement already satisfied: matplotlib in /usr/local/lib/python3.7/dist-packages (from imgaug) (3.2.2)\n",
            "Requirement already satisfied: networkx>=2.0 in /usr/local/lib/python3.7/dist-packages (from scikit-image>=0.14.2->imgaug) (2.6.3)\n",
            "Requirement already satisfied: PyWavelets>=1.1.1 in /usr/local/lib/python3.7/dist-packages (from scikit-image>=0.14.2->imgaug) (1.3.0)\n",
            "Requirement already satisfied: tifffile>=2019.7.26 in /usr/local/lib/python3.7/dist-packages (from scikit-image>=0.14.2->imgaug) (2021.11.2)\n",
            "Requirement already satisfied: kiwisolver>=1.0.1 in /usr/local/lib/python3.7/dist-packages (from matplotlib->imgaug) (1.4.3)\n",
            "Requirement already satisfied: cycler>=0.10 in /usr/local/lib/python3.7/dist-packages (from matplotlib->imgaug) (0.11.0)\n",
            "Requirement already satisfied: pyparsing!=2.0.4,!=2.1.2,!=2.1.6,>=2.0.1 in /usr/local/lib/python3.7/dist-packages (from matplotlib->imgaug) (3.0.9)\n",
            "Requirement already satisfied: python-dateutil>=2.1 in /usr/local/lib/python3.7/dist-packages (from matplotlib->imgaug) (2.8.2)\n",
            "Requirement already satisfied: typing-extensions in /usr/local/lib/python3.7/dist-packages (from kiwisolver>=1.0.1->matplotlib->imgaug) (4.1.1)\n",
            "Installing collected packages: imgaug\n",
            "\u001b[31mERROR: pip's dependency resolver does not currently take into account all the packages that are installed. This behaviour is the source of the following dependency conflicts.\n",
            "albumentations 0.1.12 requires imgaug<0.2.7,>=0.2.5, but you have imgaug 0.4.0 which is incompatible.\u001b[0m\n",
            "Successfully installed imgaug-0.4.0\n"
          ]
        }
      ],
      "source": [
        "!pip uninstall imgaug --yes\n",
        "!pip install imgaug"
      ]
    },
    {
      "cell_type": "code",
      "execution_count": null,
      "metadata": {
        "colab": {
          "base_uri": "https://localhost:8080/"
        },
        "id": "DlbVxE-vPwSU",
        "outputId": "a8007aa2-4963-44b5-b3ca-0ff14614e964"
      },
      "outputs": [
        {
          "output_type": "stream",
          "name": "stdout",
          "text": [
            "fatal: destination path 'projsemisup' already exists and is not an empty directory.\n"
          ]
        }
      ],
      "source": [
        "!git clone https://github.com/axelcarlier/projsemisup.git\n",
        "path = \"./projsemisup/\""
      ]
    },
    {
      "cell_type": "code",
      "execution_count": null,
      "metadata": {
        "id": "Hy_7RjF0LGoC"
      },
      "outputs": [],
      "source": [
        "from imgaug import augmenters as iaa\n",
        "import imgaug as ia\n",
        "rand_aug = iaa.RandAugment(n=2, m=9)\n",
        "import tensorflow as tf\n",
        "\n",
        "\n",
        "def augment(images):\n",
        "    # Input to `augment()` is a TensorFlow tensor which\n",
        "    # is not supported by `imgaug`. This is why we first\n",
        "    # convert it to its `numpy` variant.\n",
        "    images = tf.cast(images, tf.uint8)\n",
        "    return rand_aug(images=images.numpy())\n",
        "\n",
        "aug = lambda x: (tf.py_function(augment, [x], [tf.float32])[0])/255\n"
      ]
    },
    {
      "cell_type": "code",
      "execution_count": null,
      "metadata": {
        "id": "i1q-LmO8PtHS"
      },
      "outputs": [],
      "source": [
        "#x_lab, y_lab, x_unlab, x_test, y_test = load_semisup_data(path, classes=CLASSES)\n",
        "#x_test = x_test/255"
      ]
    },
    {
      "cell_type": "code",
      "execution_count": null,
      "metadata": {
        "id": "UX37bGCCx4uR",
        "colab": {
          "base_uri": "https://localhost:8080/"
        },
        "outputId": "9b185728-967c-4e2e-ab92-a14bb3133b98"
      },
      "outputs": [
        {
          "output_type": "stream",
          "name": "stdout",
          "text": [
            "Downloading data from https://www.cs.toronto.edu/~kriz/cifar-10-python.tar.gz\n",
            "170500096/170498071 [==============================] - 4s 0us/step\n",
            "170508288/170498071 [==============================] - 4s 0us/step\n",
            "(50000, 32, 32, 3) (50000, 1)\n",
            "(10000, 32, 32, 3) (10000, 1)\n"
          ]
        }
      ],
      "source": [
        "import numpy as np\n",
        "import tensorflow\n",
        "from tensorflow import keras\n",
        "import matplotlib.pyplot as plt\n",
        "\n",
        "(x_train, y_train), (x_test, y_test) = keras.datasets.cifar10.load_data()\n",
        "print(x_train.shape, y_train.shape)\n",
        "print(x_test.shape, y_test.shape)\n",
        "\n",
        "idx = np.random.permutation(len(x_train))\n",
        "x_train = x_train[idx]\n",
        "y_train = y_train[idx]\n",
        "\n",
        "x_lab = x_train[:2500]\n",
        "x_unlab = x_train[2500:10000]\n",
        "\n",
        "y_lab = y_train[:2500]"
      ]
    },
    {
      "cell_type": "code",
      "execution_count": null,
      "metadata": {
        "id": "XhF3XT5NQC6E",
        "colab": {
          "base_uri": "https://localhost:8080/"
        },
        "outputId": "ad3d3450-0b6c-4c45-8dae-2608ef94bdc6"
      },
      "outputs": [
        {
          "output_type": "stream",
          "name": "stdout",
          "text": [
            "(2500, 32, 32, 3) (2500, 1)\n",
            "(7500, 32, 32, 3)\n",
            "(10000, 32, 32, 3) (10000, 1)\n"
          ]
        }
      ],
      "source": [
        "print(x_lab.shape, y_lab.shape)\n",
        "print(x_unlab.shape)\n",
        "print(x_test.shape, y_test.shape)"
      ]
    },
    {
      "cell_type": "code",
      "execution_count": null,
      "metadata": {
        "id": "ZiRHjZ8u2-I2",
        "colab": {
          "base_uri": "https://localhost:8080/"
        },
        "outputId": "ea6f20c6-721c-45e9-a46d-361f19cfa041"
      },
      "outputs": [
        {
          "output_type": "stream",
          "name": "stdout",
          "text": [
            "Model: \"model\"\n",
            "_________________________________________________________________\n",
            " Layer (type)                Output Shape              Param #   \n",
            "=================================================================\n",
            " input_1 (InputLayer)        [(None, 32, 32, 3)]       0         \n",
            "                                                                 \n",
            " conv2d (Conv2D)             (None, 32, 32, 64)        1792      \n",
            "                                                                 \n",
            " max_pooling2d (MaxPooling2D  (None, 16, 16, 64)       0         \n",
            " )                                                               \n",
            "                                                                 \n",
            " conv2d_1 (Conv2D)           (None, 16, 16, 128)       73856     \n",
            "                                                                 \n",
            " max_pooling2d_1 (MaxPooling  (None, 8, 8, 128)        0         \n",
            " 2D)                                                             \n",
            "                                                                 \n",
            " conv2d_2 (Conv2D)           (None, 8, 8, 256)         295168    \n",
            "                                                                 \n",
            " max_pooling2d_2 (MaxPooling  (None, 4, 4, 256)        0         \n",
            " 2D)                                                             \n",
            "                                                                 \n",
            " flatten (Flatten)           (None, 4096)              0         \n",
            "                                                                 \n",
            " dense (Dense)               (None, 512)               2097664   \n",
            "                                                                 \n",
            " dense_1 (Dense)             (None, 10)                5130      \n",
            "                                                                 \n",
            "=================================================================\n",
            "Total params: 2,473,610\n",
            "Trainable params: 2,473,610\n",
            "Non-trainable params: 0\n",
            "_________________________________________________________________\n"
          ]
        }
      ],
      "source": [
        "from tensorflow.keras.layers import Conv2D, MaxPooling2D\n",
        "from tensorflow.keras.layers import Dense, Flatten\n",
        "from tensorflow.keras.models import Sequential\n",
        "from tensorflow.keras import optimizers\n",
        "from tensorflow.keras import Input, Model\n",
        "\n",
        "def build_model(Nbclasses=95, image_size=64):\n",
        "  input = Input(shape=(image_size, image_size, 3))\n",
        "\n",
        "  x = Conv2D(64,(3,3),activation='relu', padding='same')(input)\n",
        "  x = MaxPooling2D(pool_size=(2,2))(x)\n",
        "  x = Conv2D(128,(3,3),activation='relu', padding='same')(x)\n",
        "  x = MaxPooling2D(pool_size=(2,2))(x)\n",
        "  x = Conv2D(256,(3,3),activation='relu', padding='same')(x)\n",
        "  x = MaxPooling2D(pool_size=(2,2))(x)\n",
        "  x = Flatten()(x)\n",
        "  x = Dense(512, activation='relu')(x)\n",
        "  output = Dense(Nbclasses, activation='linear')(x)\n",
        "\n",
        "  model = Model(inputs=input, outputs=output)\n",
        "\n",
        "  return model\n",
        "\n",
        "model = build_model(Nbclasses = 10, image_size = 32)\n",
        "model.summary()\n",
        "# model.compile(loss=\"sparse_categorical_crossentropy\", optimizer=tf.keras.optimizers.Adam(learning_rate=3e-4), metrics=[\"sparse_categorical_accuracy\"])\n",
        "# model.fit(x_lab, y_lab, validation_data=(x_test,y_test), epochs=100, batch_size=10)"
      ]
    },
    {
      "cell_type": "code",
      "execution_count": null,
      "metadata": {
        "id": "Hvb3W8iexADC"
      },
      "outputs": [],
      "source": [
        "import numpy as np\n",
        "# Données et modèle du problème des 2 clusters\n",
        "history = []\n",
        "# Nombre d'epochs de l'apprentissage\n",
        "epochs = 50\n",
        "# Nombre de données non-labellisées par batch\n",
        "bs_unlab = 16*3\n",
        "# Nombre de données labellisées par batch\n",
        "bs_lab = 16\n",
        "# Taille du batch\n",
        "batch_size = bs_lab + bs_unlab ## = 32 comme dans UDA\n",
        "# Valeur initiale du paramètre de contrôle de l'importance de la régularisation non-supervisée\n",
        "lambda_t = 1\n",
        "\n",
        "# Nombre de batches par epochs\n",
        "steps_per_epochs = int(np.floor(x_lab.shape[0]/bs_lab))\n",
        "# Instanciation d'un optimiseur et d'une fonction de coût.\n",
        "optimizer = tf.keras.optimizers.Adam(learning_rate=3e-4)\n",
        "\n",
        "# Préparation des métriques pour le suivi de la performance du modèle.\n",
        "train_acc_metric = tf.keras.metrics.SparseCategoricalAccuracy()\n",
        "val_acc_metric = tf.keras.metrics.SparseCategoricalAccuracy()\n",
        "\n",
        "# Indices de l'ensemble non labellisé\n",
        "indices_lab = np.arange(x_lab.shape[0]) \n",
        "# Indices de l'ensemble non labellisé\n",
        "indices_unlab = np.arange(x_unlab.shape[0]) "
      ]
    },
    {
      "cell_type": "code",
      "execution_count": null,
      "metadata": {
        "id": "xp-o-qq23ubD"
      },
      "outputs": [],
      "source": [
        "supervised_loss = tf.keras.losses.SparseCategoricalCrossentropy()\n",
        "\n",
        "def consistency_loss(p_logits, q_logits):\n",
        "    p = tf.nn.softmax(p_logits)\n",
        "    log_p = tf.nn.log_softmax(p_logits)\n",
        "    log_q = tf.nn.log_softmax(q_logits)\n",
        "\n",
        "    kl = tf.reduce_sum(p * (log_p - log_q), -1)\n",
        "    kl = tf.cast(kl, tf.float32)\n",
        "    return kl\n",
        "\n",
        "def decay_weights(cost, model, weight_decay_rate=5e-4):\n",
        "  \"\"\"Calculates the loss for l2 weight decay and adds it to `cost`.\"\"\"\n",
        "  costs = []\n",
        "  for var in model.trainable_variables:\n",
        "    costs.append(tf.nn.l2_loss(var))\n",
        "  cost += tf.math.multiply(weight_decay_rate, tf.math.add_n(costs))\n",
        "  return cost"
      ]
    },
    {
      "cell_type": "code",
      "execution_count": null,
      "metadata": {
        "id": "oO3m0aQIDP9a"
      },
      "outputs": [],
      "source": [
        "NUM_CLASSES = 10\n",
        "def get_eta_threshold(global_step, num_train_steps, start, end=1) :\n",
        "  step_ratio = tf.cast(global_step, tf.float32) /  tf.cast(num_train_steps, tf.float32) \n",
        "  scale = 5\n",
        "  coeff = 1 - tf.exp((-step_ratio) * scale)\n",
        "  #coeff = step_ratio\n",
        "  #coeff = 1\n",
        "  return coeff * (end - start) + start\n",
        "\n",
        "def anneal_sup_loss(sup_logits, sup_labels, sup_loss, global_step):\n",
        "  eta_start = 1. / NUM_CLASSES\n",
        "  eta = get_eta_threshold(epoch, epochs, eta_start)\n",
        "\n",
        "  one_hot_labels = tf.one_hot(sup_labels, depth=NUM_CLASSES, dtype=tf.float32)\n",
        "  sup_probs = tf.nn.softmax(sup_logits, axis=-1)\n",
        "\n",
        "  correct_label_probs = tf.reduce_sum(one_hot_labels * sup_probs, axis=-1)\n",
        "\n",
        "  larger_than_threshold = tf.greater(correct_label_probs, eta)\n",
        "\n",
        "  loss_mask = 1 - tf.cast(larger_than_threshold, tf.float32)\n",
        "  loss_mask = tf.stop_gradient(loss_mask)\n",
        "\n",
        "  sup_loss = sup_loss * loss_mask\n",
        "\n",
        "  avg_sup_loss = (tf.reduce_sum(sup_loss) /\n",
        "                  tf.maximum(tf.reduce_sum(loss_mask), 1))\n",
        "  \n",
        "  return sup_loss, avg_sup_loss\n",
        "\n",
        "def get_ent(logits):\n",
        "    log_prob = tf.nn.log_softmax(logits, axis=-1)\n",
        "    prob = tf.exp(log_prob)\n",
        "    ent = tf.reduce_sum(-prob * log_prob, axis=-1)\n",
        "    tf.reduce_mean(ent)\n",
        "    return ent\n"
      ]
    },
    {
      "cell_type": "code",
      "execution_count": null,
      "metadata": {
        "id": "W29qokSA3dtM",
        "colab": {
          "base_uri": "https://localhost:8080/"
        },
        "outputId": "aac6bcbd-d238-48c8-c985-b42fceef1704"
      },
      "outputs": [
        {
          "output_type": "stream",
          "name": "stdout",
          "text": [
            "tsa threshold : 0.10000000149011612\n",
            "Epoch    0 : Loss : 1.8686 (Mask sum : 0), Acc : 0.2336, Val Acc : 0.3506\n",
            "tsa threshold : 0.18564626574516296\n",
            "Epoch    1 : Loss : 1.5580 (Mask sum : 86), Acc : 0.3802, Val Acc : 0.4062\n",
            "tsa threshold : 0.26314231753349304\n",
            "Epoch    2 : Loss : 1.3799 (Mask sum : 237), Acc : 0.4443, Val Acc : 0.4315\n",
            "tsa threshold : 0.3332636058330536\n",
            "Epoch    3 : Loss : 1.1848 (Mask sum : 423), Acc : 0.4840, Val Acc : 0.4540\n",
            "tsa threshold : 0.39671191573143005\n",
            "Epoch    4 : Loss : 1.0643 (Mask sum : 687), Acc : 0.5256, Val Acc : 0.4761\n",
            "tsa threshold : 0.454122394323349\n",
            "Epoch    5 : Loss : 0.9459 (Mask sum : 969), Acc : 0.5693, Val Acc : 0.4961\n",
            "tsa threshold : 0.506069540977478\n",
            "Epoch    6 : Loss : 0.8283 (Mask sum : 1289), Acc : 0.6066, Val Acc : 0.5127\n",
            "tsa threshold : 0.5530732274055481\n",
            "Epoch    7 : Loss : 1.1323 (Mask sum : 1594), Acc : 0.6518, Val Acc : 0.5119\n",
            "tsa threshold : 0.595603883266449\n",
            "Epoch    8 : Loss : 0.7915 (Mask sum : 1943), Acc : 0.6871, Val Acc : 0.5280\n",
            "tsa threshold : 0.6340872645378113\n",
            "Epoch    9 : Loss : 0.6007 (Mask sum : 2310), Acc : 0.7392, Val Acc : 0.5168\n",
            "tsa threshold : 0.6689084768295288\n",
            "Epoch   10 : Loss : 1.0340 (Mask sum : 2620), Acc : 0.7865, Val Acc : 0.5106\n",
            "tsa threshold : 0.7004160284996033\n",
            "Epoch   11 : Loss : 0.7632 (Mask sum : 2829), Acc : 0.8249, Val Acc : 0.5069\n",
            "tsa threshold : 0.7289251685142517\n",
            "Epoch   12 : Loss : 0.6655 (Mask sum : 3102), Acc : 0.8502, Val Acc : 0.5107\n",
            "tsa threshold : 0.7547214031219482\n",
            "Epoch   13 : Loss : 0.7673 (Mask sum : 3307), Acc : 0.8794, Val Acc : 0.5134\n",
            "tsa threshold : 0.7780627012252808\n",
            "Epoch   14 : Loss : 0.6416 (Mask sum : 3418), Acc : 0.8858, Val Acc : 0.5350\n",
            "tsa threshold : 0.7991828322410583\n",
            "Epoch   15 : Loss : 0.8870 (Mask sum : 3579), Acc : 0.8926, Val Acc : 0.5320\n",
            "tsa threshold : 0.8182930946350098\n",
            "Epoch   16 : Loss : 0.7317 (Mask sum : 3637), Acc : 0.9038, Val Acc : 0.5373\n",
            "tsa threshold : 0.835584819316864\n",
            "Epoch   17 : Loss : 0.6536 (Mask sum : 3785), Acc : 0.9295, Val Acc : 0.5382\n",
            "tsa threshold : 0.851231038570404\n",
            "Epoch   18 : Loss : 0.7509 (Mask sum : 3849), Acc : 0.9323, Val Acc : 0.5511\n",
            "tsa threshold : 0.8653882741928101\n",
            "Epoch   19 : Loss : 0.7633 (Mask sum : 4119), Acc : 0.9675, Val Acc : 0.5423\n",
            "tsa threshold : 0.8781982660293579\n",
            "Epoch   20 : Loss : 0.7002 (Mask sum : 4178), Acc : 0.9732, Val Acc : 0.5440\n",
            "tsa threshold : 0.8897892236709595\n",
            "Epoch   21 : Loss : 0.5623 (Mask sum : 4281), Acc : 0.9796, Val Acc : 0.5638\n",
            "tsa threshold : 0.9002771973609924\n",
            "Epoch   22 : Loss : 0.6916 (Mask sum : 4364), Acc : 0.9792, Val Acc : 0.5595\n",
            "tsa threshold : 0.9097670316696167\n",
            "Epoch   23 : Loss : 0.4412 (Mask sum : 4423), Acc : 0.9788, Val Acc : 0.5470\n",
            "tsa threshold : 0.9183538556098938\n",
            "Epoch   24 : Loss : 0.7130 (Mask sum : 4443), Acc : 0.9804, Val Acc : 0.5605\n",
            "tsa threshold : 0.9261234998703003\n",
            "Epoch   25 : Loss : 0.8527 (Mask sum : 4475), Acc : 0.9848, Val Acc : 0.5336\n",
            "tsa threshold : 0.9331537485122681\n",
            "Epoch   26 : Loss : 0.7343 (Mask sum : 4475), Acc : 0.9864, Val Acc : 0.5590\n",
            "tsa threshold : 0.9395150542259216\n",
            "Epoch   27 : Loss : 0.6406 (Mask sum : 4558), Acc : 0.9840, Val Acc : 0.5427\n",
            "tsa threshold : 0.9452708959579468\n",
            "Epoch   28 : Loss : 0.6262 (Mask sum : 4666), Acc : 0.9884, Val Acc : 0.5684\n",
            "tsa threshold : 0.9504790902137756\n",
            "Epoch   29 : Loss : 0.8482 (Mask sum : 4669), Acc : 0.9872, Val Acc : 0.5679\n",
            "tsa threshold : 0.9551916718482971\n",
            "Epoch   30 : Loss : 0.6203 (Mask sum : 4718), Acc : 0.9924, Val Acc : 0.5618\n",
            "tsa threshold : 0.9594557285308838\n",
            "Epoch   31 : Loss : 0.6617 (Mask sum : 4753), Acc : 0.9920, Val Acc : 0.5725\n",
            "tsa threshold : 0.9633140563964844\n",
            "Epoch   32 : Loss : 0.8204 (Mask sum : 4824), Acc : 0.9916, Val Acc : 0.5657\n",
            "tsa threshold : 0.9668051600456238\n",
            "Epoch   33 : Loss : 0.6524 (Mask sum : 4821), Acc : 0.9904, Val Acc : 0.5610\n",
            "tsa threshold : 0.9699640870094299\n",
            "Epoch   34 : Loss : 1.0517 (Mask sum : 4914), Acc : 0.9912, Val Acc : 0.5810\n",
            "tsa threshold : 0.972822368144989\n",
            "Epoch   35 : Loss : 0.8786 (Mask sum : 4974), Acc : 0.9924, Val Acc : 0.5797\n",
            "tsa threshold : 0.975408673286438\n",
            "Epoch   36 : Loss : 0.9352 (Mask sum : 4956), Acc : 0.9900, Val Acc : 0.5599\n",
            "tsa threshold : 0.9777488112449646\n",
            "Epoch   37 : Loss : 0.7053 (Mask sum : 4977), Acc : 0.9916, Val Acc : 0.5834\n",
            "tsa threshold : 0.9798663258552551\n",
            "Epoch   38 : Loss : 0.8482 (Mask sum : 4988), Acc : 0.9948, Val Acc : 0.5736\n",
            "tsa threshold : 0.9817822575569153\n",
            "Epoch   39 : Loss : 0.6129 (Mask sum : 5082), Acc : 0.9948, Val Acc : 0.5657\n",
            "tsa threshold : 0.9835159778594971\n",
            "Epoch   40 : Loss : 0.9472 (Mask sum : 5053), Acc : 0.9928, Val Acc : 0.5770\n",
            "tsa threshold : 0.985084593296051\n",
            "Epoch   41 : Loss : 0.7667 (Mask sum : 5054), Acc : 0.9960, Val Acc : 0.5744\n",
            "tsa threshold : 0.9865039587020874\n",
            "Epoch   42 : Loss : 1.2003 (Mask sum : 5110), Acc : 0.9928, Val Acc : 0.5772\n",
            "tsa threshold : 0.9877882599830627\n",
            "Epoch   43 : Loss : 0.8320 (Mask sum : 5150), Acc : 0.9936, Val Acc : 0.5670\n",
            "tsa threshold : 0.9889503717422485\n",
            "Epoch   44 : Loss : 1.0916 (Mask sum : 5135), Acc : 0.9928, Val Acc : 0.5950\n",
            "tsa threshold : 0.990001916885376\n",
            "Epoch   45 : Loss : 0.7690 (Mask sum : 5196), Acc : 0.9956, Val Acc : 0.5913\n",
            "tsa threshold : 0.9909533262252808\n",
            "Epoch   46 : Loss : 0.6306 (Mask sum : 5224), Acc : 0.9948, Val Acc : 0.6015\n",
            "tsa threshold : 0.9918142557144165\n",
            "Epoch   47 : Loss : 0.6584 (Mask sum : 5192), Acc : 0.9944, Val Acc : 0.6029\n",
            "tsa threshold : 0.9925932288169861\n",
            "Epoch   48 : Loss : 0.8809 (Mask sum : 5205), Acc : 0.9956, Val Acc : 0.5904\n",
            "tsa threshold : 0.9932980537414551\n",
            "Epoch   49 : Loss : 0.7328 (Mask sum : 5169), Acc : 0.9960, Val Acc : 0.6069\n"
          ]
        }
      ],
      "source": [
        "beta = 0.8\n",
        "tau = 0.4\n",
        "history = []\n",
        "\n",
        "x_test_norm = x_test/255\n",
        "\n",
        "for epoch in range(epochs):\n",
        "\n",
        "  print(f\"tsa threshold : {get_eta_threshold(epoch, epochs, 1/10, end=1)}\")\n",
        "    \n",
        "  mask_sum = 0\n",
        "\n",
        "  for b in range(steps_per_epochs):\n",
        "\n",
        "\n",
        "    # Les données d'un batch sont constituées de l'intégralité de nos données labellisées...\n",
        "    x_batch_lab = x_lab[indices_lab[b*bs_lab:(b+1)*bs_lab]]\n",
        "    y_batch_lab = y_lab[indices_lab[b*bs_lab:(b+1)*bs_lab]]\n",
        "    # y_batch_lab = np.expand_dims(y_batch_lab,1)\n",
        "    # ... ainsi que de données non-labellisées !\n",
        "    x_batch_unlab = x_unlab[indices_unlab[b*bs_unlab:(b+1)*bs_unlab]]\n",
        "    # unlabeled augmented data\n",
        "    x_batch_aug = aug(x_batch_unlab)\n",
        "\n",
        "    # Normalization\n",
        "    x_batch_lab = x_batch_lab/255\n",
        "    x_batch_unlab = x_batch_unlab/255\n",
        "\n",
        "    # Les opérations effectuées par le modèle dans ce bloc sont suivies et permettront\n",
        "    # la différentiation automatique.\n",
        "    with tf.GradientTape() as tape:\n",
        "\n",
        "      # SUPERVISED PART\n",
        "      sup_logits = model(x_batch_lab, training=True)\n",
        "      sup_probs = tf.nn.softmax(sup_logits, axis=-1)\n",
        "      # Cross entropy with annealing higher probs regarding tsa threshold \n",
        "      sup_loss = supervised_loss(y_batch_lab, sup_probs)\n",
        "      sup_loss = tf.cast(sup_loss, tf.float32)\n",
        "      sup_loss = tf.reduce_mean(sup_loss)\n",
        "\n",
        "      _, sup_loss = anneal_sup_loss(sup_logits, y_batch_lab, sup_loss, epoch)\n",
        "\n",
        "\n",
        "      # # UNSUPERVISED PART\n",
        "      ori_logits = model(x_batch_unlab, training=True)\n",
        "      aug_logits = model(x_batch_aug, training=True)\n",
        "      ori_logits_tgt = ori_logits / tau\n",
        "\n",
        "      # # Consistency loss\n",
        "      unsup_loss = consistency_loss(p_logits=tf.stop_gradient(ori_logits_tgt), q_logits=aug_logits)\n",
        "      \n",
        "\n",
        "      # # get most confident predictions\n",
        "      ori_prob = tf.nn.softmax(ori_logits, axis=-1)\n",
        "      largest_prob = tf.reduce_max(ori_prob, axis=-1)\n",
        "      loss_mask = tf.cast(tf.greater(largest_prob, beta), tf.float32)\n",
        "      loss_mask = tf.stop_gradient(loss_mask)\n",
        "      mask_sum += np.sum(loss_mask.numpy())\n",
        "      unsup_loss = unsup_loss * loss_mask\n",
        "      unsup_loss = tf.reduce_mean(unsup_loss)\n",
        "\n",
        "      # min_ent = tf.reduce_mean(get_ent(ori_logits))\n",
        "\n",
        "      total_loss = sup_loss + unsup_loss# + 0.5 * min_ent\n",
        "\n",
        "      # # L2 regularisation\n",
        "      total_loss = decay_weights(total_loss, model)\n",
        "\n",
        "      # Calcul des gradients par différentiation automatique\n",
        "      grads = tape.gradient(total_loss, model.trainable_weights)\n",
        "      # Réalisation d'une itération de la descente de gradient (mise à jour des paramètres du réseau)\n",
        "      optimizer.apply_gradients(zip(grads, model.trainable_weights))\n",
        "\n",
        "      # Mise à jour de la métrique\n",
        "      train_acc_metric.update_state(y_batch_lab, sup_probs)\n",
        "\n",
        "  # Calcul de la précision à la fin de l'epoch\n",
        "  train_acc = train_acc_metric.result()\n",
        "  # Calcul de la précision sur l'ensemble de validation à la fin de l'epoch\n",
        "  val_logits = model(x_test_norm, training=False)\n",
        "  val_pred = tf.nn.softmax(val_logits, axis=-1)\n",
        "\n",
        "  val_acc_metric.update_state(y_test, val_pred)\n",
        "  val_acc = val_acc_metric.result()\n",
        "  history.append((train_acc,val_acc))\n",
        "  print(\"Epoch %4d : Loss : %.4f (Mask sum : %d), Acc : %.4f, Val Acc : %.4f\" % (epoch, float(total_loss), mask_sum, float(train_acc), float(val_acc)))\n",
        "\n",
        "  # Remise à zéro des métriques pour la prochaine epoch\n",
        "  train_acc_metric.reset_states()\n",
        "  val_acc_metric.reset_states()\n"
      ]
    },
    {
      "cell_type": "code",
      "source": [
        "train_accuracy = []\n",
        "val_accuracy = []\n",
        "for i in range(0, len(history)) :\n",
        "  train_accuracy.append(history[i][0])\n",
        "  val_accuracy.append(history[i][1])"
      ],
      "metadata": {
        "id": "owxpII-oYDom"
      },
      "execution_count": null,
      "outputs": []
    },
    {
      "cell_type": "code",
      "execution_count": null,
      "metadata": {
        "id": "VZxC3kkJXm6v",
        "colab": {
          "base_uri": "https://localhost:8080/"
        },
        "outputId": "8606618b-d8d6-4de3-d68f-bd3742a30b89"
      },
      "outputs": [
        {
          "output_type": "display_data",
          "data": {
            "text/plain": [
              "<Figure size 720x720 with 1 Axes>"
            ],
            "image/png": "[encoded data removed]"
          },
          "metadata": {
            "needs_background": "light"
          }
        }
      ],
      "source": [
        "plt.figure(figsize=(10,10))\n",
        "plt.plot(np.arange(0, 50), train_accuracy, label='Train acc')\n",
        "plt.plot(np.arange(0, 50), val_accuracy, label='Val acc')\n",
        "plt.legend()\n",
        "plt.title('Accuracy evolution during the training')\n",
        "plt.show()"
      ]
    }
  ],
  "metadata": {
    "accelerator": "GPU",
    "colab": {
      "provenance": []
    },
    "gpuClass": "standard",
    "kernelspec": {
      "display_name": "Python 3",
      "name": "python3"
    },
    "language_info": {
      "name": "python"
    }
  },
  "nbformat": 4,
  "nbformat_minor": 0
}